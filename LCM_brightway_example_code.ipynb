{
 "cells": [
  {
   "cell_type": "markdown",
   "id": "68f601b5-bf25-472a-941e-5fe68d3ae4cd",
   "metadata": {},
   "source": [
    "# LCM2023 - Poster session, 5-8 September 2023\n",
    "## Retrofitting of Italian vernacular built stock with bio-based building materials: a viable solution to mitigate climate change effects?\n",
    "Example of the brightway code used to compute the LCA results included in the contribution to the LCM conference."
   ]
  },
  {
   "cell_type": "code",
   "execution_count": null,
   "id": "bcaac37f-a1e4-4e43-a5ef-3a9ad0370b25",
   "metadata": {
    "tags": []
   },
   "outputs": [],
   "source": [
    "Project_name=\"BIOED\" \n",
    "ei_version=\"3.9.1\"\n",
    "ei_type=\"cut-off\"\n",
    "ei_name=\"Ecoinvent \"+ei_version+\" \"+ei_type+\" \"+Project_name\n",
    "ei_name"
   ]
  },
  {
   "cell_type": "markdown",
   "id": "5f44cea1-06b9-4623-aad1-3fe1d1a4d5ef",
   "metadata": {},
   "source": [
    "## Library used"
   ]
  },
  {
   "cell_type": "code",
   "execution_count": null,
   "id": "fe0e8d44-d805-4322-9e85-9e36bb026081",
   "metadata": {
    "tags": []
   },
   "outputs": [],
   "source": [
    "# brightway 25\n",
    "import bw2analyzer as ba\n",
    "import bw2data as bd\n",
    "import bw2calc as bc\n",
    "import bw2io as bi\n",
    "import matrix_utils as mu\n",
    "import bw_processing as bp\n",
    "# import bw_temporalis\n",
    "\n",
    "import pandas as pd\n",
    "import os \n",
    "import numpy as np\n",
    "import plotly\n",
    "import plotly.graph_objects as go\n",
    "import plotly.express as px\n",
    "\n",
    "path_name = r'C:\\Users\\niky2\\OneDrive - Politecnico di Milano\\Dottorato\\Progetti\\01-Paper climate\\Aggiornamento LCA'\n",
    "os.chdir(path_name)"
   ]
  },
  {
   "cell_type": "code",
   "execution_count": null,
   "id": "b0b41dd1-e464-4b3d-8404-fbb02a209cf9",
   "metadata": {
    "tags": []
   },
   "outputs": [],
   "source": [
    "bd.projects.set_current('BIOED')\n",
    "  "
   ]
  },
  {
   "cell_type": "code",
   "execution_count": null,
   "id": "592e9b51-6c1b-461b-a97a-e76c332ca659",
   "metadata": {
    "tags": []
   },
   "outputs": [],
   "source": [
    "bd.projects.current"
   ]
  },
  {
   "cell_type": "code",
   "execution_count": null,
   "id": "fb2366d6-cd1e-4e39-b31f-b11e56fba06b",
   "metadata": {
    "tags": []
   },
   "outputs": [],
   "source": [
    "bi.bw2setup() # se il project esiste già, questo comando non fa nulla\n",
    "# se il progetto non esiste, bw2 crea il biosphere database, che è il database dei flussi elementari. Crea anche gli\n",
    "# LCIA methods di base. Si possono poi importare altri flussi elementari o LCIA methods.\n",
    "# il biosphere database è creato a partire da file presenti all'interno dei packages di bw2, che vengono richiamati quando serve"
   ]
  },
  {
   "cell_type": "code",
   "execution_count": null,
   "id": "62805add-8f73-47ed-a2f6-5abebe0ce0f2",
   "metadata": {
    "tags": []
   },
   "outputs": [],
   "source": [
    "list(bd.databases)"
   ]
  },
  {
   "cell_type": "markdown",
   "id": "aee88c49-0e8f-4830-860f-a0f8db4020f6",
   "metadata": {
    "tags": []
   },
   "source": [
    "## Ecoinvent 3.9.1"
   ]
  },
  {
   "cell_type": "code",
   "execution_count": null,
   "id": "158b2096-81a9-4c7b-a793-6280be2903bc",
   "metadata": {
    "tags": []
   },
   "outputs": [],
   "source": [
    "if len(bd.databases)==1: # eseguo questo comando solo se ho solo il biosphere database (database dei flussi elementari). Procedo a importare un nuovo database io, a partire da ecoinvent 3.8 cutoff \n",
    "    # Nel comando qui sotto, dovrai mettere l'indirizzo del tuo pc in cui hai salvato ecoinvent in formato ecospold. \n",
    "    # Attenzione a unzippare il file ecospold e ad arrivare alla cartella datasets nell'indirizzo\n",
    "    fpei = r'D:\\ecoinvent 3.9.1_cutoff_ecoSpold02\\datasets'\n",
    "    # i comandi qui sotto servono a elaborare il database e infine \"scriverlo\" nel project\n",
    "    ei = bi.SingleOutputEcospold2Importer(fpei, ei_name) # creazione dell'oggetto 'Ecoinvent 3.8 cut-off OWC'.\n",
    "    ei.apply_strategies() # elaborazione del database\n",
    "    ei.statistics() # statistiche finali (eventuali errori vengono mostrati qui)\n",
    "    ei.write_database() # scrittura del database"
   ]
  },
  {
   "cell_type": "markdown",
   "id": "a4e7e842-c6f9-4577-9144-1cf2971f51f0",
   "metadata": {},
   "source": [
    "## Implemented function:"
   ]
  },
  {
   "cell_type": "code",
   "execution_count": null,
   "id": "ff7bbaed-8ceb-4f37-900d-1be1d435ef05",
   "metadata": {
    "tags": []
   },
   "outputs": [],
   "source": [
    "def new_act_diff_location(database, activity_id, locations, new_name, project_name=Project_name):\n",
    "    ''' This function will create a copy of an activity, identified with activity.id, and will modify the copied activity by \n",
    "    substituting the technosphere processes with the preferable location indicated by the parameter locations.\n",
    "    '''\n",
    "    # is the modified process already in the database?\n",
    "    if (len([act for act in database if act['name']==new_name])==0):\n",
    "        # find activity to modify\n",
    "        act_origin = [act for act in database if act.id==activity_id][0]\n",
    "        act_new = act_origin.copy()\n",
    "        act_new['name'] = new_name\n",
    "        act_new['location'] = project_name\n",
    "        act_new.save()\n",
    "        \n",
    "        for exc in act_new.technosphere():\n",
    "            exc.delete()\n",
    "            exc.save()\n",
    "            act_new.save()\n",
    "            \n",
    "        # If GLO or RoW were not considered, add it at the end\n",
    "        if 'RoW' not in locations:\n",
    "            locations.append('RoW')\n",
    "        if 'GLO' not in locations:\n",
    "            locations.append('GLO')\n",
    "        \n",
    "        locations.reverse()\n",
    "        \n",
    "        for exc in act_origin.technosphere():\n",
    "            for loc in locations:\n",
    "            # Search for an exact match of the reference product with specified location\n",
    "                for activity in database:\n",
    "                    if activity['reference product'] == exc['name'] and loc in activity['location'] and activity['name'] == exc.input['name']:\n",
    "                        new_edge = activity\n",
    "                \n",
    "             \n",
    "            act_new.new_edge(\n",
    "                            input=new_edge.key,\n",
    "                            name=new_edge['name'],\n",
    "                            amount=exc.amount,\n",
    "                            type=\"technosphere\",\n",
    "                        ).save()\n",
    "            new_edge.save()             \n",
    "        \n",
    "        return act_new\n",
    "    \n",
    "    print('The modified activity is already present in the database!!')\n",
    "    return [act for act in database if act['name']==new_name][0]\n",
    "    "
   ]
  },
  {
   "cell_type": "code",
   "execution_count": null,
   "id": "4524b9ab-0c2d-427d-9863-5bcf4b46cfd4",
   "metadata": {
    "tags": []
   },
   "outputs": [],
   "source": [
    "def new_activity(database, activity_name, activity_code, activity_unit, activity_reference, exchanges, project_name=Project_name, bio = bd.Database('biosphere3')):\n",
    "    '''This function will create a new activity in the given database, adding in input the given exchanges'''\n",
    "    \n",
    "    # is the modified process already in the database?\n",
    "    if (len([act for act in database if act['name']==activity_name and act['location']==project_name])==0):\n",
    "        print('####################################################################################################')\n",
    "        print(f'Creating the activity: {activity_name}....')\n",
    "        proj_Database=database.new_node(code=activity_code,\n",
    "                                                         name=activity_name, # nome\n",
    "                                                         location=project_name, \n",
    "                                                         type='process', \n",
    "                                                         unit=activity_unit) # unità di misura del reference flow del processo\n",
    "        # e lo salvo poi nel database (bisogna sempre ricordarsi di salvare, altrimenti le modifiche)\n",
    "        proj_Database.save()\n",
    "        # bw2 usa il seguente vocabolario, rispetto a OpenLCA: activity=process e exchange=flow\n",
    "        # Qui sotto cerco uno specifico processo (activity), nel database 'ecoinvent 3.6 LCE' indicando che 'Polymer transport - LCE' sia nel nome di tale processo.\n",
    "        # Ovvero, sto cercando il processo che ho appena creato nelle righe sopra.\n",
    "        new_act=[act for act in database if act['name']==activity_name and act['location']==project_name][0]\n",
    "        # Aggiungo il nome del reference flow nelle info di questo processo\n",
    "        new_act['reference product']=activity_reference\n",
    "        # e poi salvo.\n",
    "        new_act.save()\n",
    "        \n",
    "        print(f'Inseriting the inputs of {activity_name}:')\n",
    "        for j in range(len(exchanges)):\n",
    "            if exchanges['code'][j]==new_act['code']:\n",
    "                if exchanges['location'][j] == 'biosphere':\n",
    "                    new_input=[ef for ef in bio if exchanges['process'][j] in ef['name']][0]\n",
    "                    \n",
    "                    new_exc=new_act.new_edge(input=new_input.key, # Questo è il provider\n",
    "                               amount=exchanges['amount'][j], # quantità\n",
    "                               type='biosphere')\n",
    "                    new_exc.save()\n",
    "                    new_act.save()\n",
    "                    print(f\"Edge: {new_input['name']};    Amount: {exchanges['amount'][j]}\")\n",
    "                    \n",
    "                else: \n",
    "                    new_input=[act for act in ei if act['name'] == exchanges['process'][j]\n",
    "                                if exchanges['location'][j] in act['location']][0]\n",
    "\n",
    "                    new_exc=new_act.new_edge(input=new_input.key, # Questo è il provider\n",
    "                                   amount=exchanges['amount'][j], # quantità\n",
    "                                   unit=new_input[\"unit\"], # unità di misura\n",
    "                                   name=new_input['reference product'], # nome del flusso\n",
    "                                   type='technosphere')\n",
    "                    new_exc.save()\n",
    "                    new_act.save()        \n",
    "                    print(f\"Edge: {new_input['reference product']};    Amount: {exchanges['amount'][j]}\")\n",
    "        \n",
    "        \n",
    "    else:\n",
    "        print('______________________________________________________________________________________________________')\n",
    "        print(f'The activity: {activity_name} is already present in the database, no need to create a new one!!')\n",
    "    \n",
    "    "
   ]
  },
  {
   "cell_type": "markdown",
   "id": "eb192279-0d99-44bf-95b4-51a3b34a1500",
   "metadata": {
    "tags": []
   },
   "source": [
    "## Materials LCI"
   ]
  },
  {
   "cell_type": "code",
   "execution_count": null,
   "id": "d641d12d-3338-4f67-884d-851de4ed0e9f",
   "metadata": {
    "tags": []
   },
   "outputs": [],
   "source": [
    "ei = bd.Database(ei_name)"
   ]
  },
  {
   "cell_type": "code",
   "execution_count": null,
   "id": "d50a48cf-5347-4396-a053-ca094474152e",
   "metadata": {
    "tags": []
   },
   "outputs": [],
   "source": [
    "bio = bd.Database('biosphere3')"
   ]
  },
  {
   "cell_type": "code",
   "execution_count": null,
   "id": "f8a6c7d6-7944-4b0d-9591-35563fad9362",
   "metadata": {
    "tags": []
   },
   "outputs": [],
   "source": [
    "[act for act in ei if 'BIOED' in act['location']]"
   ]
  },
  {
   "cell_type": "markdown",
   "id": "96e29732-2ca4-4cb9-9d6e-884654109340",
   "metadata": {},
   "source": [
    "## creation of proxy activities for Italy"
   ]
  },
  {
   "cell_type": "markdown",
   "id": "5b4fcf52-8040-4d9e-a4c6-083460b77ff6",
   "metadata": {},
   "source": [
    "### lime mortar production, IT"
   ]
  },
  {
   "cell_type": "markdown",
   "id": "18ec71f5-b093-49aa-82e3-644b30c30e79",
   "metadata": {},
   "source": [
    "for example to create the activity 'lime mortar production' located in Italy, we started from the activity located in Switzerland and chainging the input with the corresponding activities, coherently selected for the Italian case.  \n",
    "To search the locations, we considered the presence of activities with the following hierarchical order:  \n",
    "- IT;\n",
    "- Europe without Switzerland;\n",
    "- RER;\n",
    "- RoW;\n",
    "- GLO."
   ]
  },
  {
   "cell_type": "markdown",
   "id": "002a081a-b96c-41bb-b8d9-8c3665f32f79",
   "metadata": {},
   "source": [
    "Creation of the activity 'lime mortar production, IT' from the correspondent activity in Switzerland but with different location for the input."
   ]
  },
  {
   "cell_type": "code",
   "execution_count": null,
   "id": "83d17549-11ff-470b-81c6-3f69f566a51a",
   "metadata": {
    "tags": []
   },
   "outputs": [],
   "source": [
    "lime_mortar_CH = [act for act in ei if 'lime mortar production' in act['name'] and 'CH' in act['location']][0]\n",
    "lime_mortar_CH.id"
   ]
  },
  {
   "cell_type": "code",
   "execution_count": null,
   "id": "17b76c37-0fff-4deb-a6bc-cb8e46efde89",
   "metadata": {
    "tags": []
   },
   "outputs": [],
   "source": [
    "LM_IT_node = new_act_diff_location(ei, lime_mortar_CH.id, ['IT', 'Europe', 'RER'], \"lime mortar production, IT\", Project_name)"
   ]
  },
  {
   "cell_type": "code",
   "execution_count": null,
   "id": "ba2ae586-110d-4e44-b903-c081d2134b5f",
   "metadata": {
    "tags": []
   },
   "outputs": [],
   "source": [
    "[exc for exc in LM_IT_node.technosphere()]"
   ]
  },
  {
   "cell_type": "code",
   "execution_count": null,
   "id": "358cb52c-32c5-45a0-92f2-e6df121f9bd5",
   "metadata": {
    "tags": []
   },
   "outputs": [],
   "source": [
    "[exc for exc in lime_mortar_CH.technosphere()]"
   ]
  },
  {
   "cell_type": "markdown",
   "id": "f3b7f7b3-f746-4cbd-ba2c-2b7cda9e5e2e",
   "metadata": {},
   "source": [
    "### plaster mixing, IT "
   ]
  },
  {
   "cell_type": "code",
   "execution_count": null,
   "id": "bbdfdf40-d295-4c24-9903-07287cb397f2",
   "metadata": {
    "tags": []
   },
   "outputs": [],
   "source": [
    "plaster_mixing_CH = [act for act in ei if 'plaster mixing' in act['name'] and 'CH' in act['location']][0]"
   ]
  },
  {
   "cell_type": "code",
   "execution_count": null,
   "id": "dc264b94-5c3e-448b-a2c4-4a18ad58d602",
   "metadata": {
    "tags": []
   },
   "outputs": [],
   "source": [
    "plaster_mixing_CH.id"
   ]
  },
  {
   "cell_type": "code",
   "execution_count": null,
   "id": "0aa81159-194f-44d7-9e3b-24a4a6fe182a",
   "metadata": {
    "tags": []
   },
   "outputs": [],
   "source": [
    "PM_IT_node.delete()"
   ]
  },
  {
   "cell_type": "code",
   "execution_count": null,
   "id": "c3bbc469-7505-4edd-889c-a63ec43fb99e",
   "metadata": {
    "tags": []
   },
   "outputs": [],
   "source": [
    "PM_IT_node = new_act_diff_location(ei, plaster_mixing_CH.id, ['IT', 'Europe', 'RER'], \"plaster mixing, IT\", Project_name)"
   ]
  },
  {
   "cell_type": "code",
   "execution_count": null,
   "id": "82dbf6e6-6cf5-457f-94e5-3f0e7909f1d3",
   "metadata": {
    "tags": []
   },
   "outputs": [],
   "source": [
    "[exc for exc in PM_IT_node.technosphere()]"
   ]
  },
  {
   "cell_type": "markdown",
   "id": "2fcfebc8-779a-4b6b-a741-a843bb47e100",
   "metadata": {},
   "source": [
    "## Materials LCI from BIOED_import.xlsx"
   ]
  },
  {
   "cell_type": "code",
   "execution_count": null,
   "id": "8583a7fd-bf81-406e-8c18-434d02bc3f00",
   "metadata": {
    "tags": []
   },
   "outputs": [],
   "source": [
    "activities_df = pd.read_excel(r\"BIOED_import.xlsx\", \"act\")\n",
    "activities_df"
   ]
  },
  {
   "cell_type": "code",
   "execution_count": null,
   "id": "abb0c001-03b5-4932-be80-c4d496abf22e",
   "metadata": {
    "tags": []
   },
   "outputs": [],
   "source": [
    "exchanges_df = pd.read_excel(r\"BIOED_import.xlsx\", \"exc\")\n",
    "exchanges_df"
   ]
  },
  {
   "cell_type": "code",
   "execution_count": null,
   "id": "f7722121-081c-494e-83bf-54c0cf9b6083",
   "metadata": {
    "tags": []
   },
   "outputs": [],
   "source": [
    "for i in range(len(activities_df)):\n",
    "    new_activity(ei, activities_df['name'][i], activities_df['code'][i], \n",
    "                 activities_df['unit'][i], activities_df['reference product'][i], exchanges_df)"
   ]
  }
 ],
 "metadata": {
  "kernelspec": {
   "display_name": "Python 3 (ipykernel)",
   "language": "python",
   "name": "python3"
  },
  "language_info": {
   "codemirror_mode": {
    "name": "ipython",
    "version": 3
   },
   "file_extension": ".py",
   "mimetype": "text/x-python",
   "name": "python",
   "nbconvert_exporter": "python",
   "pygments_lexer": "ipython3",
   "version": "3.11.4"
  }
 },
 "nbformat": 4,
 "nbformat_minor": 5
}
