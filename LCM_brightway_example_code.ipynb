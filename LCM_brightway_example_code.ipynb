{
 "cells": [
  {
   "cell_type": "markdown",
   "id": "68f601b5-bf25-472a-941e-5fe68d3ae4cd",
   "metadata": {},
   "source": [
    "# LCM2023 - Poster session, 5-8 September 2023\n",
    "## Retrofitting of Italian vernacular built stock with bio-based building materials: a viable solution to mitigate climate change effects?\n",
    "Example of the brightway code used to compute the LCA results included in the contribution to the LCM conference."
   ]
  },
  {
   "cell_type": "code",
   "execution_count": 1,
   "id": "bcaac37f-a1e4-4e43-a5ef-3a9ad0370b25",
   "metadata": {
    "tags": []
   },
   "outputs": [
    {
     "data": {
      "text/plain": [
       "'Ecoinvent 3.9.1 cut-off BIOED'"
      ]
     },
     "execution_count": 1,
     "metadata": {},
     "output_type": "execute_result"
    }
   ],
   "source": [
    "Project_name=\"BIOED\" \n",
    "ei_version=\"3.9.1\"\n",
    "ei_type=\"cut-off\"\n",
    "ei_name=\"Ecoinvent \"+ei_version+\" \"+ei_type+\" \"+Project_name\n",
    "ei_name"
   ]
  },
  {
   "cell_type": "markdown",
   "id": "5f44cea1-06b9-4623-aad1-3fe1d1a4d5ef",
   "metadata": {},
   "source": [
    "## Library used"
   ]
  },
  {
   "cell_type": "code",
   "execution_count": 2,
   "id": "fe0e8d44-d805-4322-9e85-9e36bb026081",
   "metadata": {
    "tags": []
   },
   "outputs": [],
   "source": [
    "# brightway 25\n",
    "import bw2analyzer as ba\n",
    "import bw2data as bd\n",
    "import bw2calc as bc\n",
    "import bw2io as bi\n",
    "import matrix_utils as mu\n",
    "import bw_processing as bp\n",
    "# import bw_temporalis\n",
    "\n",
    "import pandas as pd\n",
    "import os \n",
    "import numpy as np\n",
    "import plotly\n",
    "import plotly.graph_objects as go\n",
    "import plotly.express as px\n",
    "\n",
    "path_name = r'C:\\Users\\niky2\\OneDrive - Politecnico di Milano\\Dottorato\\Progetti\\01-Paper climate\\Aggiornamento LCA'\n",
    "os.chdir(path_name)"
   ]
  },
  {
   "cell_type": "code",
   "execution_count": 10,
   "id": "b0b41dd1-e464-4b3d-8404-fbb02a209cf9",
   "metadata": {
    "tags": []
   },
   "outputs": [],
   "source": [
    "bd.projects.set_current('BIOED')\n",
    "  "
   ]
  },
  {
   "cell_type": "code",
   "execution_count": 11,
   "id": "592e9b51-6c1b-461b-a97a-e76c332ca659",
   "metadata": {
    "tags": []
   },
   "outputs": [
    {
     "data": {
      "text/plain": [
       "'BIOED'"
      ]
     },
     "execution_count": 11,
     "metadata": {},
     "output_type": "execute_result"
    }
   ],
   "source": [
    "bd.projects.current"
   ]
  },
  {
   "cell_type": "code",
   "execution_count": 15,
   "id": "fb2366d6-cd1e-4e39-b31f-b11e56fba06b",
   "metadata": {
    "tags": []
   },
   "outputs": [
    {
     "name": "stdout",
     "output_type": "stream",
     "text": [
      "Creating default biosphere\n",
      "\n",
      "Applying strategy: normalize_units\n",
      "Applying strategy: drop_unspecified_subcategories\n",
      "Applying strategy: ensure_categories_are_tuples\n",
      "Applied 3 strategies in 0.01 seconds\n",
      "Vacuuming database \n",
      "Vacuuming database \n"
     ]
    },
    {
     "ename": "OperationalError",
     "evalue": "cannot VACUUM from within a transaction",
     "output_type": "error",
     "traceback": [
      "\u001b[1;31m---------------------------------------------------------------------------\u001b[0m",
      "\u001b[1;31mOperationalError\u001b[0m                          Traceback (most recent call last)",
      "File \u001b[1;32m~\\.conda\\envs\\bw25\\Lib\\site-packages\\peewee.py:3246\u001b[0m, in \u001b[0;36mDatabase.execute_sql\u001b[1;34m(self, sql, params, commit)\u001b[0m\n\u001b[0;32m   3245\u001b[0m     cursor \u001b[38;5;241m=\u001b[39m \u001b[38;5;28mself\u001b[39m\u001b[38;5;241m.\u001b[39mcursor()\n\u001b[1;32m-> 3246\u001b[0m     cursor\u001b[38;5;241m.\u001b[39mexecute(sql, params \u001b[38;5;129;01mor\u001b[39;00m ())\n\u001b[0;32m   3247\u001b[0m \u001b[38;5;28;01mreturn\u001b[39;00m cursor\n",
      "\u001b[1;31mOperationalError\u001b[0m: cannot VACUUM from within a transaction",
      "\nDuring handling of the above exception, another exception occurred:\n",
      "\u001b[1;31mOperationalError\u001b[0m                          Traceback (most recent call last)",
      "Cell \u001b[1;32mIn[15], line 1\u001b[0m\n\u001b[1;32m----> 1\u001b[0m \u001b[43mbi\u001b[49m\u001b[38;5;241;43m.\u001b[39;49m\u001b[43mbw2setup\u001b[49m\u001b[43m(\u001b[49m\u001b[43m)\u001b[49m \u001b[38;5;66;03m# se il project esiste già, questo comando non fa nulla\u001b[39;00m\n\u001b[0;32m      2\u001b[0m \u001b[38;5;66;03m# se il progetto non esiste, bw2 crea il biosphere database, che è il database dei flussi elementari. Crea anche gli\u001b[39;00m\n\u001b[0;32m      3\u001b[0m \u001b[38;5;66;03m# LCIA methods di base. Si possono poi importare altri flussi elementari o LCIA methods.\u001b[39;00m\n\u001b[0;32m      4\u001b[0m \u001b[38;5;66;03m# il biosphere database è creato a partire da file presenti all'interno dei packages di bw2, che vengono richiamati quando serve\u001b[39;00m\n",
      "File \u001b[1;32m~\\.conda\\envs\\bw25\\Lib\\site-packages\\bw2io\\__init__.py:150\u001b[0m, in \u001b[0;36mbw2setup\u001b[1;34m()\u001b[0m\n\u001b[0;32m    148\u001b[0m     \u001b[38;5;28;01mreturn\u001b[39;00m\n\u001b[0;32m    149\u001b[0m \u001b[38;5;28mprint\u001b[39m(\u001b[38;5;124m\"\u001b[39m\u001b[38;5;124mCreating default biosphere\u001b[39m\u001b[38;5;130;01m\\n\u001b[39;00m\u001b[38;5;124m\"\u001b[39m)\n\u001b[1;32m--> 150\u001b[0m \u001b[43mcreate_default_biosphere3\u001b[49m\u001b[43m(\u001b[49m\u001b[43m)\u001b[49m\n\u001b[0;32m    151\u001b[0m \u001b[38;5;28mprint\u001b[39m(\u001b[38;5;124m\"\u001b[39m\u001b[38;5;124mCreating default LCIA methods\u001b[39m\u001b[38;5;130;01m\\n\u001b[39;00m\u001b[38;5;124m\"\u001b[39m)\n\u001b[0;32m    152\u001b[0m create_default_lcia_methods()\n",
      "File \u001b[1;32m~\\.conda\\envs\\bw25\\Lib\\site-packages\\bw2io\\__init__.py:112\u001b[0m, in \u001b[0;36mcreate_default_biosphere3\u001b[1;34m(overwrite)\u001b[0m\n\u001b[0;32m    110\u001b[0m eb \u001b[38;5;241m=\u001b[39m Ecospold2BiosphereImporter()\n\u001b[0;32m    111\u001b[0m eb\u001b[38;5;241m.\u001b[39mapply_strategies()\n\u001b[1;32m--> 112\u001b[0m \u001b[43meb\u001b[49m\u001b[38;5;241;43m.\u001b[39;49m\u001b[43mwrite_database\u001b[49m\u001b[43m(\u001b[49m\u001b[43moverwrite\u001b[49m\u001b[38;5;241;43m=\u001b[39;49m\u001b[43moverwrite\u001b[49m\u001b[43m)\u001b[49m\n",
      "File \u001b[1;32m~\\.conda\\envs\\bw25\\Lib\\site-packages\\bw2io\\importers\\base_lci.py:278\u001b[0m, in \u001b[0;36mLCIImporter.write_database\u001b[1;34m(self, data, delete_existing, backend, activate_parameters, db_name, **kwargs)\u001b[0m\n\u001b[0;32m    275\u001b[0m \u001b[38;5;28mself\u001b[39m\u001b[38;5;241m.\u001b[39mwrite_database_parameters(activate_parameters, delete_existing)\n\u001b[0;32m    277\u001b[0m existing\u001b[38;5;241m.\u001b[39mupdate(data)\n\u001b[1;32m--> 278\u001b[0m \u001b[43mdb\u001b[49m\u001b[38;5;241;43m.\u001b[39;49m\u001b[43mwrite\u001b[49m\u001b[43m(\u001b[49m\u001b[43mexisting\u001b[49m\u001b[43m)\u001b[49m\n\u001b[0;32m    280\u001b[0m \u001b[38;5;28;01mif\u001b[39;00m activate_parameters:\n\u001b[0;32m    281\u001b[0m     \u001b[38;5;28mself\u001b[39m\u001b[38;5;241m.\u001b[39m_write_activity_parameters(activity_parameters)\n",
      "File \u001b[1;32m~\\.conda\\envs\\bw25\\Lib\\site-packages\\bw2data\\backends\\base.py:587\u001b[0m, in \u001b[0;36mDatabase.write\u001b[1;34m(self, data, process)\u001b[0m\n\u001b[0;32m    585\u001b[0m \u001b[38;5;28;01mif\u001b[39;00m data:\n\u001b[0;32m    586\u001b[0m     \u001b[38;5;28;01mtry\u001b[39;00m:\n\u001b[1;32m--> 587\u001b[0m         \u001b[38;5;28;43mself\u001b[39;49m\u001b[38;5;241;43m.\u001b[39;49m\u001b[43m_efficient_write_many_data\u001b[49m\u001b[43m(\u001b[49m\u001b[43mdata\u001b[49m\u001b[43m)\u001b[49m\n\u001b[0;32m    588\u001b[0m     \u001b[38;5;28;01mexcept\u001b[39;00m:\n\u001b[0;32m    589\u001b[0m         \u001b[38;5;28mself\u001b[39m\u001b[38;5;241m.\u001b[39mdelete_data()\n",
      "File \u001b[1;32m~\\.conda\\envs\\bw25\\Lib\\site-packages\\bw2data\\backends\\base.py:517\u001b[0m, in \u001b[0;36mDatabase._efficient_write_many_data\u001b[1;34m(self, data, indices)\u001b[0m\n\u001b[0;32m    515\u001b[0m \u001b[38;5;28;01mtry\u001b[39;00m:\n\u001b[0;32m    516\u001b[0m     sqlite3_lci_db\u001b[38;5;241m.\u001b[39mdb\u001b[38;5;241m.\u001b[39mbegin()\n\u001b[1;32m--> 517\u001b[0m     \u001b[38;5;28;43mself\u001b[39;49m\u001b[38;5;241;43m.\u001b[39;49m\u001b[43mdelete_data\u001b[49m\u001b[43m(\u001b[49m\u001b[43mkeep_params\u001b[49m\u001b[38;5;241;43m=\u001b[39;49m\u001b[38;5;28;43;01mTrue\u001b[39;49;00m\u001b[43m,\u001b[49m\u001b[43m \u001b[49m\u001b[43mwarn\u001b[49m\u001b[38;5;241;43m=\u001b[39;49m\u001b[38;5;28;43;01mFalse\u001b[39;49;00m\u001b[43m)\u001b[49m\n\u001b[0;32m    518\u001b[0m     exchanges, activities \u001b[38;5;241m=\u001b[39m [], []\n\u001b[0;32m    520\u001b[0m     \u001b[38;5;28;01mif\u001b[39;00m \u001b[38;5;129;01mnot\u001b[39;00m \u001b[38;5;28mgetattr\u001b[39m(config, \u001b[38;5;124m\"\u001b[39m\u001b[38;5;124mis_test\u001b[39m\u001b[38;5;124m\"\u001b[39m, \u001b[38;5;28;01mNone\u001b[39;00m):\n",
      "File \u001b[1;32m~\\.conda\\envs\\bw25\\Lib\\site-packages\\bw2data\\backends\\base.py:811\u001b[0m, in \u001b[0;36mDatabase.delete_data\u001b[1;34m(self, keep_params, warn)\u001b[0m\n\u001b[0;32m    806\u001b[0m     DatabaseParameter\u001b[38;5;241m.\u001b[39mdelete()\u001b[38;5;241m.\u001b[39mwhere(\n\u001b[0;32m    807\u001b[0m         DatabaseParameter\u001b[38;5;241m.\u001b[39mdatabase \u001b[38;5;241m==\u001b[39m \u001b[38;5;28mself\u001b[39m\u001b[38;5;241m.\u001b[39mname\n\u001b[0;32m    808\u001b[0m     )\u001b[38;5;241m.\u001b[39mexecute()\n\u001b[0;32m    810\u001b[0m \u001b[38;5;28;01mif\u001b[39;00m vacuum_needed:\n\u001b[1;32m--> 811\u001b[0m     \u001b[43msqlite3_lci_db\u001b[49m\u001b[38;5;241;43m.\u001b[39;49m\u001b[43mvacuum\u001b[49m\u001b[43m(\u001b[49m\u001b[43m)\u001b[49m\n",
      "File \u001b[1;32m~\\.conda\\envs\\bw25\\Lib\\site-packages\\bw2data\\sqlite.py:49\u001b[0m, in \u001b[0;36mSubstitutableDatabase.vacuum\u001b[1;34m(self)\u001b[0m\n\u001b[0;32m     47\u001b[0m \u001b[38;5;28;01mdef\u001b[39;00m \u001b[38;5;21mvacuum\u001b[39m(\u001b[38;5;28mself\u001b[39m):\n\u001b[0;32m     48\u001b[0m     \u001b[38;5;28mprint\u001b[39m(\u001b[38;5;124m\"\u001b[39m\u001b[38;5;124mVacuuming database \u001b[39m\u001b[38;5;124m\"\u001b[39m)\n\u001b[1;32m---> 49\u001b[0m     \u001b[38;5;28;43mself\u001b[39;49m\u001b[38;5;241;43m.\u001b[39;49m\u001b[43mexecute_sql\u001b[49m\u001b[43m(\u001b[49m\u001b[38;5;124;43m\"\u001b[39;49m\u001b[38;5;124;43mVACUUM;\u001b[39;49m\u001b[38;5;124;43m\"\u001b[39;49m\u001b[43m)\u001b[49m\n",
      "File \u001b[1;32m~\\.conda\\envs\\bw25\\Lib\\site-packages\\bw2data\\sqlite.py:42\u001b[0m, in \u001b[0;36mSubstitutableDatabase.execute_sql\u001b[1;34m(self, *args, **kwargs)\u001b[0m\n\u001b[0;32m     41\u001b[0m \u001b[38;5;28;01mdef\u001b[39;00m \u001b[38;5;21mexecute_sql\u001b[39m(\u001b[38;5;28mself\u001b[39m, \u001b[38;5;241m*\u001b[39margs, \u001b[38;5;241m*\u001b[39m\u001b[38;5;241m*\u001b[39mkwargs):\n\u001b[1;32m---> 42\u001b[0m     \u001b[38;5;28;01mreturn\u001b[39;00m \u001b[38;5;28;43mself\u001b[39;49m\u001b[38;5;241;43m.\u001b[39;49m\u001b[43mdb\u001b[49m\u001b[38;5;241;43m.\u001b[39;49m\u001b[43mexecute_sql\u001b[49m\u001b[43m(\u001b[49m\u001b[38;5;241;43m*\u001b[39;49m\u001b[43margs\u001b[49m\u001b[43m,\u001b[49m\u001b[43m \u001b[49m\u001b[38;5;241;43m*\u001b[39;49m\u001b[38;5;241;43m*\u001b[39;49m\u001b[43mkwargs\u001b[49m\u001b[43m)\u001b[49m\n",
      "File \u001b[1;32m~\\.conda\\envs\\bw25\\Lib\\site-packages\\peewee.py:3244\u001b[0m, in \u001b[0;36mDatabase.execute_sql\u001b[1;34m(self, sql, params, commit)\u001b[0m\n\u001b[0;32m   3242\u001b[0m     __deprecated__(\u001b[38;5;124m'\u001b[39m\u001b[38;5;124m\"\u001b[39m\u001b[38;5;124mcommit\u001b[39m\u001b[38;5;124m\"\u001b[39m\u001b[38;5;124m has been deprecated and is a no-op.\u001b[39m\u001b[38;5;124m'\u001b[39m)\n\u001b[0;32m   3243\u001b[0m logger\u001b[38;5;241m.\u001b[39mdebug((sql, params))\n\u001b[1;32m-> 3244\u001b[0m \u001b[43m\u001b[49m\u001b[38;5;28;43;01mwith\u001b[39;49;00m\u001b[43m \u001b[49m\u001b[43m__exception_wrapper__\u001b[49m\u001b[43m:\u001b[49m\n\u001b[0;32m   3245\u001b[0m \u001b[43m    \u001b[49m\u001b[43mcursor\u001b[49m\u001b[43m \u001b[49m\u001b[38;5;241;43m=\u001b[39;49m\u001b[43m \u001b[49m\u001b[38;5;28;43mself\u001b[39;49m\u001b[38;5;241;43m.\u001b[39;49m\u001b[43mcursor\u001b[49m\u001b[43m(\u001b[49m\u001b[43m)\u001b[49m\n\u001b[0;32m   3246\u001b[0m \u001b[43m    \u001b[49m\u001b[43mcursor\u001b[49m\u001b[38;5;241;43m.\u001b[39;49m\u001b[43mexecute\u001b[49m\u001b[43m(\u001b[49m\u001b[43msql\u001b[49m\u001b[43m,\u001b[49m\u001b[43m \u001b[49m\u001b[43mparams\u001b[49m\u001b[43m \u001b[49m\u001b[38;5;129;43;01mor\u001b[39;49;00m\u001b[43m \u001b[49m\u001b[43m(\u001b[49m\u001b[43m)\u001b[49m\u001b[43m)\u001b[49m\n",
      "File \u001b[1;32m~\\.conda\\envs\\bw25\\Lib\\site-packages\\peewee.py:3014\u001b[0m, in \u001b[0;36mExceptionWrapper.__exit__\u001b[1;34m(self, exc_type, exc_value, traceback)\u001b[0m\n\u001b[0;32m   3012\u001b[0m new_type \u001b[38;5;241m=\u001b[39m \u001b[38;5;28mself\u001b[39m\u001b[38;5;241m.\u001b[39mexceptions[exc_type\u001b[38;5;241m.\u001b[39m\u001b[38;5;18m__name__\u001b[39m]\n\u001b[0;32m   3013\u001b[0m exc_args \u001b[38;5;241m=\u001b[39m exc_value\u001b[38;5;241m.\u001b[39margs\n\u001b[1;32m-> 3014\u001b[0m \u001b[43mreraise\u001b[49m\u001b[43m(\u001b[49m\u001b[43mnew_type\u001b[49m\u001b[43m,\u001b[49m\u001b[43m \u001b[49m\u001b[43mnew_type\u001b[49m\u001b[43m(\u001b[49m\u001b[43mexc_value\u001b[49m\u001b[43m,\u001b[49m\u001b[43m \u001b[49m\u001b[38;5;241;43m*\u001b[39;49m\u001b[43mexc_args\u001b[49m\u001b[43m)\u001b[49m\u001b[43m,\u001b[49m\u001b[43m \u001b[49m\u001b[43mtraceback\u001b[49m\u001b[43m)\u001b[49m\n",
      "File \u001b[1;32m~\\.conda\\envs\\bw25\\Lib\\site-packages\\peewee.py:192\u001b[0m, in \u001b[0;36mreraise\u001b[1;34m(tp, value, tb)\u001b[0m\n\u001b[0;32m    190\u001b[0m \u001b[38;5;28;01mdef\u001b[39;00m \u001b[38;5;21mreraise\u001b[39m(tp, value, tb\u001b[38;5;241m=\u001b[39m\u001b[38;5;28;01mNone\u001b[39;00m):\n\u001b[0;32m    191\u001b[0m     \u001b[38;5;28;01mif\u001b[39;00m value\u001b[38;5;241m.\u001b[39m__traceback__ \u001b[38;5;129;01mis\u001b[39;00m \u001b[38;5;129;01mnot\u001b[39;00m tb:\n\u001b[1;32m--> 192\u001b[0m         \u001b[38;5;28;01mraise\u001b[39;00m value\u001b[38;5;241m.\u001b[39mwith_traceback(tb)\n\u001b[0;32m    193\u001b[0m     \u001b[38;5;28;01mraise\u001b[39;00m value\n",
      "File \u001b[1;32m~\\.conda\\envs\\bw25\\Lib\\site-packages\\peewee.py:3246\u001b[0m, in \u001b[0;36mDatabase.execute_sql\u001b[1;34m(self, sql, params, commit)\u001b[0m\n\u001b[0;32m   3244\u001b[0m \u001b[38;5;28;01mwith\u001b[39;00m __exception_wrapper__:\n\u001b[0;32m   3245\u001b[0m     cursor \u001b[38;5;241m=\u001b[39m \u001b[38;5;28mself\u001b[39m\u001b[38;5;241m.\u001b[39mcursor()\n\u001b[1;32m-> 3246\u001b[0m     cursor\u001b[38;5;241m.\u001b[39mexecute(sql, params \u001b[38;5;129;01mor\u001b[39;00m ())\n\u001b[0;32m   3247\u001b[0m \u001b[38;5;28;01mreturn\u001b[39;00m cursor\n",
      "\u001b[1;31mOperationalError\u001b[0m: cannot VACUUM from within a transaction"
     ]
    }
   ],
   "source": [
    "bi.bw2setup() # se il project esiste già, questo comando non fa nulla\n",
    "# se il progetto non esiste, bw2 crea il biosphere database, che è il database dei flussi elementari. Crea anche gli\n",
    "# LCIA methods di base. Si possono poi importare altri flussi elementari o LCIA methods.\n",
    "# il biosphere database è creato a partire da file presenti all'interno dei packages di bw2, che vengono richiamati quando serve"
   ]
  },
  {
   "cell_type": "code",
   "execution_count": null,
   "id": "62805add-8f73-47ed-a2f6-5abebe0ce0f2",
   "metadata": {
    "tags": []
   },
   "outputs": [],
   "source": [
    "list(bd.databases)"
   ]
  },
  {
   "cell_type": "markdown",
   "id": "aee88c49-0e8f-4830-860f-a0f8db4020f6",
   "metadata": {
    "tags": []
   },
   "source": [
    "## Ecoinvent 3.9.1"
   ]
  },
  {
   "cell_type": "code",
   "execution_count": 6,
   "id": "158b2096-81a9-4c7b-a793-6280be2903bc",
   "metadata": {
    "tags": []
   },
   "outputs": [
    {
     "name": "stdout",
     "output_type": "stream",
     "text": [
      "Extracting XML data from 21238 datasets\n",
      "Extracted 21238 datasets in 80.33 seconds\n",
      "Applying strategy: normalize_units\n",
      "Applying strategy: update_ecoinvent_locations\n",
      "Applying strategy: remove_zero_amount_coproducts\n",
      "Applying strategy: remove_zero_amount_inputs_with_no_activity\n",
      "Applying strategy: remove_unnamed_parameters\n",
      "Applying strategy: es2_assign_only_product_with_amount_as_reference_product\n",
      "Applying strategy: assign_single_product_as_activity\n",
      "Applying strategy: create_composite_code\n",
      "Applying strategy: drop_unspecified_subcategories\n",
      "Applying strategy: fix_ecoinvent_flows_pre35\n",
      "Applying strategy: drop_temporary_outdated_biosphere_flows\n",
      "Applying strategy: link_biosphere_by_flow_uuid\n",
      "Applying strategy: link_internal_technosphere_by_composite_code\n",
      "Applying strategy: delete_exchanges_missing_activity\n",
      "Applying strategy: delete_ghost_exchanges\n",
      "Applying strategy: remove_uncertainty_from_negative_loss_exchanges\n",
      "Applying strategy: fix_unreasonably_high_lognormal_uncertainties\n",
      "Applying strategy: set_lognormal_loc_value\n",
      "Applying strategy: convert_activity_parameters_to_list\n",
      "Applying strategy: add_cpc_classification_from_single_reference_product\n",
      "Applying strategy: delete_none_synonyms\n",
      "Applying strategy: update_social_flows_in_older_consequential\n",
      "Applied 22 strategies in 10.47 seconds\n",
      "21238 datasets\n",
      "674593 exchanges\n",
      "0 unlinked exchanges\n",
      "  \n"
     ]
    },
    {
     "name": "stderr",
     "output_type": "stream",
     "text": [
      "Writing activities to SQLite3 database:\n"
     ]
    },
    {
     "name": "stdout",
     "output_type": "stream",
     "text": [
      "Not able to determine geocollections for all datasets. This database is not ready for regionalization.\n"
     ]
    },
    {
     "name": "stderr",
     "output_type": "stream",
     "text": [
      "0% [##############################] 100% | ETA: 00:00:00\n",
      "Total time elapsed: 00:00:59\n"
     ]
    },
    {
     "name": "stdout",
     "output_type": "stream",
     "text": [
      "Title: Writing activities to SQLite3 database:\n",
      "  Started: 06/06/2023 09:53:59\n",
      "  Finished: 06/06/2023 09:54:58\n",
      "  Total time elapsed: 00:00:59\n",
      "  CPU %: 96.50\n",
      "  Memory %: 48.85\n",
      "Created database: Ecoinvent 3.9.1 cut-off BIOED\n"
     ]
    }
   ],
   "source": [
    "if len(bd.databases)==1: # eseguo questo comando solo se ho solo il biosphere database (database dei flussi elementari). Procedo a importare un nuovo database io, a partire da ecoinvent 3.8 cutoff \n",
    "    # Nel comando qui sotto, dovrai mettere l'indirizzo del tuo pc in cui hai salvato ecoinvent in formato ecospold. \n",
    "    # Attenzione a unzippare il file ecospold e ad arrivare alla cartella datasets nell'indirizzo\n",
    "    fpei = r'D:\\ecoinvent 3.9.1_cutoff_ecoSpold02\\datasets'\n",
    "    # i comandi qui sotto servono a elaborare il database e infine \"scriverlo\" nel project\n",
    "    ei = bi.SingleOutputEcospold2Importer(fpei, ei_name) # creazione dell'oggetto 'Ecoinvent 3.8 cut-off OWC'.\n",
    "    ei.apply_strategies() # elaborazione del database\n",
    "    ei.statistics() # statistiche finali (eventuali errori vengono mostrati qui)\n",
    "    ei.write_database() # scrittura del database"
   ]
  },
  {
   "cell_type": "markdown",
   "id": "a4e7e842-c6f9-4577-9144-1cf2971f51f0",
   "metadata": {},
   "source": [
    "## Implemented function:"
   ]
  },
  {
   "cell_type": "code",
   "execution_count": 4,
   "id": "ff7bbaed-8ceb-4f37-900d-1be1d435ef05",
   "metadata": {
    "tags": []
   },
   "outputs": [],
   "source": [
    "def new_act_diff_location(database, activity_id, locations, new_name, project_name=Project_name):\n",
    "    ''' This function will create a copy of an activity, identified with activity.id, and will modify the copied activity by \n",
    "    substituting the technosphere processes with the preferable location indicated by the parameter locations.\n",
    "    '''\n",
    "    # is the modified process already in the database?\n",
    "    if (len([act for act in database if act['name']==new_name])==0):\n",
    "        # find activity to modify\n",
    "        act_origin = [act for act in database if act.id==activity_id][0]\n",
    "        act_new = act_origin.copy()\n",
    "        act_new['name'] = new_name\n",
    "        act_new['location'] = project_name\n",
    "        act_new.save()\n",
    "        \n",
    "        for exc in act_new.technosphere():\n",
    "            exc.delete()\n",
    "            exc.save()\n",
    "            act_new.save()\n",
    "            \n",
    "        # If GLO or RoW were not considered, add it at the end\n",
    "        if 'RoW' not in locations:\n",
    "            locations.append('RoW')\n",
    "        if 'GLO' not in locations:\n",
    "            locations.append('GLO')\n",
    "        \n",
    "        locations.reverse()\n",
    "        \n",
    "        for exc in act_origin.technosphere():\n",
    "            for loc in locations:\n",
    "            # Search for an exact match of the reference product with specified location\n",
    "                for activity in database:\n",
    "                    if activity['reference product'] == exc['name'] and loc in activity['location'] and activity['name'] == exc.input['name']:\n",
    "                        new_edge = activity\n",
    "                \n",
    "             \n",
    "            act_new.new_edge(\n",
    "                            input=new_edge.key,\n",
    "                            name=new_edge['name'],\n",
    "                            amount=exc.amount,\n",
    "                            type=\"technosphere\",\n",
    "                        ).save()\n",
    "            new_edge.save()             \n",
    "        \n",
    "        return act_new\n",
    "    \n",
    "    print('The modified activity is already present in the database!!')\n",
    "    return [act for act in database if act['name']==new_name][0]\n",
    "    "
   ]
  },
  {
   "cell_type": "code",
   "execution_count": 3,
   "id": "4524b9ab-0c2d-427d-9863-5bcf4b46cfd4",
   "metadata": {
    "tags": []
   },
   "outputs": [],
   "source": [
    "def new_activity(database, activity_name, activity_code, activity_unit, activity_reference, exchanges, project_name=Project_name, bio = bd.Database('biosphere3')):\n",
    "    '''This function will create a new activity in the given database, adding in input the given exchanges'''\n",
    "    \n",
    "    # is the modified process already in the database?\n",
    "    if (len([act for act in database if act['name']==activity_name and act['location']==project_name])==0):\n",
    "        print('####################################################################################################')\n",
    "        print(f'Creating the activity: {activity_name}....')\n",
    "        proj_Database=database.new_node(code=activity_code,\n",
    "                                                         name=activity_name, # nome\n",
    "                                                         location=project_name, \n",
    "                                                         type='process', \n",
    "                                                         unit=activity_unit) # unità di misura del reference flow del processo\n",
    "        # e lo salvo poi nel database (bisogna sempre ricordarsi di salvare, altrimenti le modifiche)\n",
    "        proj_Database.save()\n",
    "        # bw2 usa il seguente vocabolario, rispetto a OpenLCA: activity=process e exchange=flow\n",
    "        # Qui sotto cerco uno specifico processo (activity), nel database 'ecoinvent 3.6 LCE' indicando che 'Polymer transport - LCE' sia nel nome di tale processo.\n",
    "        # Ovvero, sto cercando il processo che ho appena creato nelle righe sopra.\n",
    "        new_act=[act for act in database if act['name']==activity_name and act['location']==project_name][0]\n",
    "        # Aggiungo il nome del reference flow nelle info di questo processo\n",
    "        new_act['reference product']=activity_reference\n",
    "        # e poi salvo.\n",
    "        new_act.save()\n",
    "        \n",
    "        print(f'Inseriting the inputs of {activity_name}:')\n",
    "        for j in range(len(exchanges)):\n",
    "            if exchanges['code'][j]==new_act['code']:\n",
    "                if exchanges['location'][j] == 'biosphere':\n",
    "                    new_input=[ef for ef in bio if exchanges['process'][j] in ef['name']][0]\n",
    "                    \n",
    "                    new_exc=new_act.new_edge(input=new_input.key, # Questo è il provider\n",
    "                               amount=exchanges['amount'][j], # quantità\n",
    "                               type='biosphere')\n",
    "                    new_exc.save()\n",
    "                    new_act.save()\n",
    "                    print(f\"Edge: {new_input['name']};    Amount: {exchanges['amount'][j]}\")\n",
    "                    \n",
    "                else: \n",
    "                    new_input=[act for act in ei if act['name'] == exchanges['process'][j]\n",
    "                                if exchanges['location'][j] in act['location']][0]\n",
    "\n",
    "                    new_exc=new_act.new_edge(input=new_input.key, # Questo è il provider\n",
    "                                   amount=exchanges['amount'][j], # quantità\n",
    "                                   unit=new_input[\"unit\"], # unità di misura\n",
    "                                   name=new_input['reference product'], # nome del flusso\n",
    "                                   type='technosphere')\n",
    "                    new_exc.save()\n",
    "                    new_act.save()        \n",
    "                    print(f\"Edge: {new_input['reference product']};    Amount: {exchanges['amount'][j]}\")\n",
    "        \n",
    "        \n",
    "    else:\n",
    "        print('______________________________________________________________________________________________________')\n",
    "        print(f'The activity: {activity_name} is already present in the database, no need to create a new one!!')\n",
    "    \n",
    "    "
   ]
  },
  {
   "cell_type": "markdown",
   "id": "eb192279-0d99-44bf-95b4-51a3b34a1500",
   "metadata": {
    "tags": []
   },
   "source": [
    "## Materials LCI"
   ]
  },
  {
   "cell_type": "code",
   "execution_count": 7,
   "id": "d641d12d-3338-4f67-884d-851de4ed0e9f",
   "metadata": {
    "tags": []
   },
   "outputs": [],
   "source": [
    "ei = bd.Database(ei_name)"
   ]
  },
  {
   "cell_type": "code",
   "execution_count": 8,
   "id": "d50a48cf-5347-4396-a053-ca094474152e",
   "metadata": {
    "tags": []
   },
   "outputs": [],
   "source": [
    "bio = bd.Database('biosphere3')"
   ]
  },
  {
   "cell_type": "code",
   "execution_count": 8,
   "id": "f8a6c7d6-7944-4b0d-9591-35563fad9362",
   "metadata": {
    "tags": []
   },
   "outputs": [
    {
     "data": {
      "text/plain": [
       "['earten plaster B2 production' (kilogram, BIOED, None),\n",
       " 'glass wool mat production, IT' (kilogram, BIOED, None),\n",
       " 'natural hydraulic lime fibre-reinforced screed production' (kilogram, BIOED, None),\n",
       " 'Rasocalce production' (kilogram, BIOED, None),\n",
       " 'Decorcalce production' (kilogram, BIOED, None),\n",
       " 'lime mortar production, IT' (kilogram, BIOED, None),\n",
       " 'earten plaster B1 production' (kilogram, BIOED, None),\n",
       " 'expanded perlite production, IT' (kilogram, BIOED, None),\n",
       " 'stone wool production, packed, IT' (kilogram, BIOED, None),\n",
       " 'lean concrete production, with cement CEM II/A, IT' (cubic meter, BIOED, None),\n",
       " 'earten plaster R1 production' (kilogram, BIOED, None),\n",
       " 'igloo production' (kilogram, BIOED, None),\n",
       " 'gypsum fibreboard production, IT' (kilogram, BIOED, None),\n",
       " 'ceramic tile production, IT' (kilogram, BIOED, None),\n",
       " 'clay plaster production, IT' (kilogram, BIOED, None),\n",
       " 'gypsum plasterboard production, IT' (kilogram, BIOED, None),\n",
       " 'cork granulate production' (kilogram, BIOED, None),\n",
       " 'base plaster production, IT' (kilogram, BIOED, None),\n",
       " 'lime production, hydraulic, IT' (kilogram, BIOED, None),\n",
       " 'plaster mixing, IT' (kilogram, BIOED, None),\n",
       " 'fibre cement corrugated slab production, IT' (kilogram, BIOED, None)]"
      ]
     },
     "execution_count": 8,
     "metadata": {},
     "output_type": "execute_result"
    }
   ],
   "source": [
    "[act for act in ei if 'BIOED' in act['location']]"
   ]
  },
  {
   "cell_type": "markdown",
   "id": "96e29732-2ca4-4cb9-9d6e-884654109340",
   "metadata": {},
   "source": [
    "## creation of proxy activities for Italy"
   ]
  },
  {
   "cell_type": "markdown",
   "id": "5b4fcf52-8040-4d9e-a4c6-083460b77ff6",
   "metadata": {},
   "source": [
    "### lime mortar production, IT"
   ]
  },
  {
   "cell_type": "markdown",
   "id": "18ec71f5-b093-49aa-82e3-644b30c30e79",
   "metadata": {},
   "source": [
    "for example to create the activity 'lime mortar production' located in Italy, we started from the activity located in Switzerland and chainging the input with the corresponding activities, coherently selected for the Italian case.  \n",
    "To search the locations, we considered the presence of activities with the following hierarchical order:  \n",
    "- IT;\n",
    "- Europe without Switzerland;\n",
    "- RER;\n",
    "- RoW;\n",
    "- GLO."
   ]
  },
  {
   "cell_type": "markdown",
   "id": "002a081a-b96c-41bb-b8d9-8c3665f32f79",
   "metadata": {},
   "source": [
    "Creation of the activity 'lime mortar production, IT' from the correspondent activity in Switzerland but with different location for the input."
   ]
  },
  {
   "cell_type": "code",
   "execution_count": 9,
   "id": "83d17549-11ff-470b-81c6-3f69f566a51a",
   "metadata": {
    "tags": []
   },
   "outputs": [
    {
     "ename": "IndexError",
     "evalue": "list index out of range",
     "output_type": "error",
     "traceback": [
      "\u001b[1;31m---------------------------------------------------------------------------\u001b[0m",
      "\u001b[1;31mIndexError\u001b[0m                                Traceback (most recent call last)",
      "Cell \u001b[1;32mIn[9], line 1\u001b[0m\n\u001b[1;32m----> 1\u001b[0m lime_mortar_CH \u001b[38;5;241m=\u001b[39m \u001b[43m[\u001b[49m\u001b[43mact\u001b[49m\u001b[43m \u001b[49m\u001b[38;5;28;43;01mfor\u001b[39;49;00m\u001b[43m \u001b[49m\u001b[43mact\u001b[49m\u001b[43m \u001b[49m\u001b[38;5;129;43;01min\u001b[39;49;00m\u001b[43m \u001b[49m\u001b[43mei\u001b[49m\u001b[43m \u001b[49m\u001b[38;5;28;43;01mif\u001b[39;49;00m\u001b[43m \u001b[49m\u001b[38;5;124;43m'\u001b[39;49m\u001b[38;5;124;43mlime mortar production\u001b[39;49m\u001b[38;5;124;43m'\u001b[39;49m\u001b[43m \u001b[49m\u001b[38;5;129;43;01min\u001b[39;49;00m\u001b[43m \u001b[49m\u001b[43mact\u001b[49m\u001b[43m[\u001b[49m\u001b[38;5;124;43m'\u001b[39;49m\u001b[38;5;124;43mname\u001b[39;49m\u001b[38;5;124;43m'\u001b[39;49m\u001b[43m]\u001b[49m\u001b[43m \u001b[49m\u001b[38;5;129;43;01mand\u001b[39;49;00m\u001b[43m \u001b[49m\u001b[38;5;124;43m'\u001b[39;49m\u001b[38;5;124;43mCH\u001b[39;49m\u001b[38;5;124;43m'\u001b[39;49m\u001b[43m \u001b[49m\u001b[38;5;129;43;01min\u001b[39;49;00m\u001b[43m \u001b[49m\u001b[43mact\u001b[49m\u001b[43m[\u001b[49m\u001b[38;5;124;43m'\u001b[39;49m\u001b[38;5;124;43mlocation\u001b[39;49m\u001b[38;5;124;43m'\u001b[39;49m\u001b[43m]\u001b[49m\u001b[43m]\u001b[49m\u001b[43m[\u001b[49m\u001b[38;5;241;43m0\u001b[39;49m\u001b[43m]\u001b[49m\n\u001b[0;32m      2\u001b[0m lime_mortar_CH\u001b[38;5;241m.\u001b[39mid\n",
      "\u001b[1;31mIndexError\u001b[0m: list index out of range"
     ]
    }
   ],
   "source": [
    "lime_mortar_CH = [act for act in ei if 'lime mortar production' in act['name'] and 'CH' in act['location']][0]\n",
    "lime_mortar_CH.id"
   ]
  },
  {
   "cell_type": "code",
   "execution_count": 43,
   "id": "17b76c37-0fff-4deb-a6bc-cb8e46efde89",
   "metadata": {
    "tags": []
   },
   "outputs": [],
   "source": [
    "LM_IT_node = new_act_diff_location(ei, lime_mortar_CH.id, ['IT', 'Europe', 'RER'], \"lime mortar production, IT\", Project_name)"
   ]
  },
  {
   "cell_type": "code",
   "execution_count": 46,
   "id": "ba2ae586-110d-4e44-b903-c081d2134b5f",
   "metadata": {
    "tags": []
   },
   "outputs": [
    {
     "data": {
      "text/plain": [
       "[Exchange: 0.56 kilogram 'market for cement, Portland' (kilogram, Europe without Switzerland, None) to 'lime mortar production, IT' (kilogram, BIOED, None)>,\n",
       " Exchange: 0.0023 kilogram 'market for chemical, organic' (kilogram, GLO, None) to 'lime mortar production, IT' (kilogram, BIOED, None)>,\n",
       " Exchange: 3.33e-08 meter 'market for conveyor belt' (meter, GLO, None) to 'lime mortar production, IT' (kilogram, BIOED, None)>,\n",
       " Exchange: 0.0278 kilowatt hour 'market for electricity, medium voltage' (kilowatt hour, IT, None) to 'lime mortar production, IT' (kilogram, BIOED, None)>,\n",
       " Exchange: 6.67e-06 kilogram 'market for industrial machine, heavy, unspecified' (kilogram, RER, None) to 'lime mortar production, IT' (kilogram, BIOED, None)>,\n",
       " Exchange: 0.043 kilogram 'market for lime, hydrated, packed' (kilogram, RER, None) to 'lime mortar production, IT' (kilogram, BIOED, None)>,\n",
       " Exchange: 0.105 kilogram 'market for lime, hydraulic' (kilogram, RER, None) to 'lime mortar production, IT' (kilogram, BIOED, None)>,\n",
       " Exchange: 1.0 kilogram 'packing, cement' (kilogram, RoW, None) to 'lime mortar production, IT' (kilogram, BIOED, None)>,\n",
       " Exchange: 0.29 kilogram 'market for silica sand' (kilogram, GLO, None) to 'lime mortar production, IT' (kilogram, BIOED, None)>]"
      ]
     },
     "execution_count": 46,
     "metadata": {},
     "output_type": "execute_result"
    }
   ],
   "source": [
    "[exc for exc in LM_IT_node.technosphere()]"
   ]
  },
  {
   "cell_type": "code",
   "execution_count": 47,
   "id": "358cb52c-32c5-45a0-92f2-e6df121f9bd5",
   "metadata": {
    "tags": []
   },
   "outputs": [
    {
     "data": {
      "text/plain": [
       "[Exchange: 0.56 kilogram 'market for cement, Portland' (kilogram, CH, None) to 'lime mortar production' (kilogram, CH, None)>,\n",
       " Exchange: 0.0023 kilogram 'market for chemical, organic' (kilogram, GLO, None) to 'lime mortar production' (kilogram, CH, None)>,\n",
       " Exchange: 3.33e-08 meter 'market for conveyor belt' (meter, GLO, None) to 'lime mortar production' (kilogram, CH, None)>,\n",
       " Exchange: 0.0278 kilowatt hour 'market for electricity, medium voltage' (kilowatt hour, CH, None) to 'lime mortar production' (kilogram, CH, None)>,\n",
       " Exchange: 6.67e-06 kilogram 'market for industrial machine, heavy, unspecified' (kilogram, RER, None) to 'lime mortar production' (kilogram, CH, None)>,\n",
       " Exchange: 0.043 kilogram 'market for lime, hydrated, packed' (kilogram, RER, None) to 'lime mortar production' (kilogram, CH, None)>,\n",
       " Exchange: 0.105 kilogram 'market for lime, hydraulic' (kilogram, RER, None) to 'lime mortar production' (kilogram, CH, None)>,\n",
       " Exchange: 1.0 kilogram 'packing, cement' (kilogram, CH, None) to 'lime mortar production' (kilogram, CH, None)>,\n",
       " Exchange: 0.29 kilogram 'market for silica sand' (kilogram, GLO, None) to 'lime mortar production' (kilogram, CH, None)>]"
      ]
     },
     "execution_count": 47,
     "metadata": {},
     "output_type": "execute_result"
    }
   ],
   "source": [
    "[exc for exc in lime_mortar_CH.technosphere()]"
   ]
  },
  {
   "cell_type": "markdown",
   "id": "f3b7f7b3-f746-4cbd-ba2c-2b7cda9e5e2e",
   "metadata": {},
   "source": [
    "### plaster mixing, IT "
   ]
  },
  {
   "cell_type": "code",
   "execution_count": 44,
   "id": "bbdfdf40-d295-4c24-9903-07287cb397f2",
   "metadata": {
    "tags": []
   },
   "outputs": [],
   "source": [
    "plaster_mixing_CH = [act for act in ei if 'plaster mixing' in act['name'] and 'CH' in act['location']][0]"
   ]
  },
  {
   "cell_type": "code",
   "execution_count": 31,
   "id": "dc264b94-5c3e-448b-a2c4-4a18ad58d602",
   "metadata": {
    "tags": []
   },
   "outputs": [
    {
     "data": {
      "text/plain": [
       "9720"
      ]
     },
     "execution_count": 31,
     "metadata": {},
     "output_type": "execute_result"
    }
   ],
   "source": [
    "plaster_mixing_CH.id"
   ]
  },
  {
   "cell_type": "code",
   "execution_count": 78,
   "id": "0aa81159-194f-44d7-9e3b-24a4a6fe182a",
   "metadata": {
    "tags": []
   },
   "outputs": [],
   "source": [
    "PM_IT_node.delete()"
   ]
  },
  {
   "cell_type": "code",
   "execution_count": 79,
   "id": "c3bbc469-7505-4edd-889c-a63ec43fb99e",
   "metadata": {
    "tags": []
   },
   "outputs": [],
   "source": [
    "PM_IT_node = new_act_diff_location(ei, plaster_mixing_CH.id, ['IT', 'Europe', 'RER'], \"plaster mixing, IT\", Project_name)"
   ]
  },
  {
   "cell_type": "code",
   "execution_count": 80,
   "id": "82dbf6e6-6cf5-457f-94e5-3f0e7909f1d3",
   "metadata": {
    "tags": []
   },
   "outputs": [
    {
     "data": {
      "text/plain": [
       "[Exchange: 0.08 kilowatt hour 'market for electricity, medium voltage' (kilowatt hour, IT, None) to 'plaster mixing, IT' (kilogram, BIOED, None)>,\n",
       " Exchange: 0.0002 kilogram 'market for industrial machine, heavy, unspecified' (kilogram, RER, None) to 'plaster mixing, IT' (kilogram, BIOED, None)>]"
      ]
     },
     "execution_count": 80,
     "metadata": {},
     "output_type": "execute_result"
    }
   ],
   "source": [
    "[exc for exc in PM_IT_node.technosphere()]"
   ]
  },
  {
   "cell_type": "markdown",
   "id": "2fcfebc8-779a-4b6b-a741-a843bb47e100",
   "metadata": {},
   "source": [
    "## Materials LCI from BIOED_import.xlsx"
   ]
  },
  {
   "cell_type": "code",
   "execution_count": 15,
   "id": "8583a7fd-bf81-406e-8c18-434d02bc3f00",
   "metadata": {
    "tags": []
   },
   "outputs": [
    {
     "data": {
      "text/html": [
       "<div>\n",
       "<style scoped>\n",
       "    .dataframe tbody tr th:only-of-type {\n",
       "        vertical-align: middle;\n",
       "    }\n",
       "\n",
       "    .dataframe tbody tr th {\n",
       "        vertical-align: top;\n",
       "    }\n",
       "\n",
       "    .dataframe thead th {\n",
       "        text-align: right;\n",
       "    }\n",
       "</style>\n",
       "<table border=\"1\" class=\"dataframe\">\n",
       "  <thead>\n",
       "    <tr style=\"text-align: right;\">\n",
       "      <th></th>\n",
       "      <th>code</th>\n",
       "      <th>unit</th>\n",
       "      <th>name</th>\n",
       "      <th>reference product</th>\n",
       "      <th>location</th>\n",
       "    </tr>\n",
       "  </thead>\n",
       "  <tbody>\n",
       "    <tr>\n",
       "      <th>0</th>\n",
       "      <td>BIOED_1</td>\n",
       "      <td>kilogram</td>\n",
       "      <td>natural hydraulic lime fibre-reinforced screed...</td>\n",
       "      <td>natural hydraulic lime fibre-reinforced screed</td>\n",
       "      <td>BIOED</td>\n",
       "    </tr>\n",
       "    <tr>\n",
       "      <th>1</th>\n",
       "      <td>BIOED_2</td>\n",
       "      <td>kilogram</td>\n",
       "      <td>Rasocalce production</td>\n",
       "      <td>Rasocalce</td>\n",
       "      <td>BIOED</td>\n",
       "    </tr>\n",
       "    <tr>\n",
       "      <th>2</th>\n",
       "      <td>BIOED_3</td>\n",
       "      <td>kilogram</td>\n",
       "      <td>igloo production</td>\n",
       "      <td>igloo</td>\n",
       "      <td>BIOED</td>\n",
       "    </tr>\n",
       "    <tr>\n",
       "      <th>3</th>\n",
       "      <td>BIOED_4</td>\n",
       "      <td>kilogram</td>\n",
       "      <td>Decorcalce production</td>\n",
       "      <td>Decorcalce</td>\n",
       "      <td>BIOED</td>\n",
       "    </tr>\n",
       "    <tr>\n",
       "      <th>4</th>\n",
       "      <td>BIOED_5</td>\n",
       "      <td>kilogram</td>\n",
       "      <td>earten plaster B1 production</td>\n",
       "      <td>earten plaster B1</td>\n",
       "      <td>BIOED</td>\n",
       "    </tr>\n",
       "    <tr>\n",
       "      <th>5</th>\n",
       "      <td>BIOED_6</td>\n",
       "      <td>kilogram</td>\n",
       "      <td>earten plaster B2 production</td>\n",
       "      <td>earten plaster B2</td>\n",
       "      <td>BIOED</td>\n",
       "    </tr>\n",
       "    <tr>\n",
       "      <th>6</th>\n",
       "      <td>BIOED_7</td>\n",
       "      <td>kilogram</td>\n",
       "      <td>earten plaster R1 production</td>\n",
       "      <td>earten plaster R1</td>\n",
       "      <td>BIOED</td>\n",
       "    </tr>\n",
       "    <tr>\n",
       "      <th>7</th>\n",
       "      <td>BIOED_8</td>\n",
       "      <td>kilogram</td>\n",
       "      <td>cork granulate production</td>\n",
       "      <td>cork granulate</td>\n",
       "      <td>BIOED</td>\n",
       "    </tr>\n",
       "  </tbody>\n",
       "</table>\n",
       "</div>"
      ],
      "text/plain": [
       "      code      unit                                               name  \\\n",
       "0  BIOED_1  kilogram  natural hydraulic lime fibre-reinforced screed...   \n",
       "1  BIOED_2  kilogram                               Rasocalce production   \n",
       "2  BIOED_3  kilogram                                   igloo production   \n",
       "3  BIOED_4  kilogram                              Decorcalce production   \n",
       "4  BIOED_5  kilogram                       earten plaster B1 production   \n",
       "5  BIOED_6  kilogram                       earten plaster B2 production   \n",
       "6  BIOED_7  kilogram                       earten plaster R1 production   \n",
       "7  BIOED_8  kilogram                          cork granulate production   \n",
       "\n",
       "                                reference product location  \n",
       "0  natural hydraulic lime fibre-reinforced screed    BIOED  \n",
       "1                                       Rasocalce    BIOED  \n",
       "2                                           igloo    BIOED  \n",
       "3                                      Decorcalce    BIOED  \n",
       "4                               earten plaster B1    BIOED  \n",
       "5                               earten plaster B2    BIOED  \n",
       "6                               earten plaster R1    BIOED  \n",
       "7                                  cork granulate    BIOED  "
      ]
     },
     "execution_count": 15,
     "metadata": {},
     "output_type": "execute_result"
    }
   ],
   "source": [
    "activities_df = pd.read_excel(r\"BIOED_import.xlsx\", \"act\")\n",
    "activities_df"
   ]
  },
  {
   "cell_type": "code",
   "execution_count": 14,
   "id": "abb0c001-03b5-4932-be80-c4d496abf22e",
   "metadata": {
    "tags": []
   },
   "outputs": [
    {
     "data": {
      "text/html": [
       "<div>\n",
       "<style scoped>\n",
       "    .dataframe tbody tr th:only-of-type {\n",
       "        vertical-align: middle;\n",
       "    }\n",
       "\n",
       "    .dataframe tbody tr th {\n",
       "        vertical-align: top;\n",
       "    }\n",
       "\n",
       "    .dataframe thead th {\n",
       "        text-align: right;\n",
       "    }\n",
       "</style>\n",
       "<table border=\"1\" class=\"dataframe\">\n",
       "  <thead>\n",
       "    <tr style=\"text-align: right;\">\n",
       "      <th></th>\n",
       "      <th>amount</th>\n",
       "      <th>unit</th>\n",
       "      <th>process</th>\n",
       "      <th>location</th>\n",
       "      <th>code</th>\n",
       "      <th>activity</th>\n",
       "    </tr>\n",
       "  </thead>\n",
       "  <tbody>\n",
       "    <tr>\n",
       "      <th>0</th>\n",
       "      <td>0.833333</td>\n",
       "      <td>kilogram</td>\n",
       "      <td>lime mortar production, IT</td>\n",
       "      <td>BIOED</td>\n",
       "      <td>BIOED_1</td>\n",
       "      <td>natural hydraulic lime fibre-reinforced screed...</td>\n",
       "    </tr>\n",
       "    <tr>\n",
       "      <th>1</th>\n",
       "      <td>0.166667</td>\n",
       "      <td>kilogram</td>\n",
       "      <td>market for tap water</td>\n",
       "      <td>Europe without Switzerland</td>\n",
       "      <td>BIOED_1</td>\n",
       "      <td>natural hydraulic lime fibre-reinforced screed...</td>\n",
       "    </tr>\n",
       "    <tr>\n",
       "      <th>2</th>\n",
       "      <td>1.000000</td>\n",
       "      <td>kilogram</td>\n",
       "      <td>plaster mixing, IT</td>\n",
       "      <td>BIOED</td>\n",
       "      <td>BIOED_1</td>\n",
       "      <td>natural hydraulic lime fibre-reinforced screed...</td>\n",
       "    </tr>\n",
       "    <tr>\n",
       "      <th>3</th>\n",
       "      <td>0.208333</td>\n",
       "      <td>kilogram</td>\n",
       "      <td>lime production, hydraulic, IT</td>\n",
       "      <td>BIOED</td>\n",
       "      <td>BIOED_2</td>\n",
       "      <td>Rasocalce production</td>\n",
       "    </tr>\n",
       "    <tr>\n",
       "      <th>4</th>\n",
       "      <td>0.625000</td>\n",
       "      <td>kilogram</td>\n",
       "      <td>market for silica sand</td>\n",
       "      <td>GLO</td>\n",
       "      <td>BIOED_2</td>\n",
       "      <td>Rasocalce production</td>\n",
       "    </tr>\n",
       "    <tr>\n",
       "      <th>5</th>\n",
       "      <td>0.166667</td>\n",
       "      <td>kilogram</td>\n",
       "      <td>market for tap water</td>\n",
       "      <td>Europe without Switzerland</td>\n",
       "      <td>BIOED_2</td>\n",
       "      <td>Rasocalce production</td>\n",
       "    </tr>\n",
       "    <tr>\n",
       "      <th>6</th>\n",
       "      <td>1.006000</td>\n",
       "      <td>kilogram</td>\n",
       "      <td>polypropylene production, granulate</td>\n",
       "      <td>RER</td>\n",
       "      <td>BIOED_3</td>\n",
       "      <td>igloo production</td>\n",
       "    </tr>\n",
       "    <tr>\n",
       "      <th>7</th>\n",
       "      <td>1.006000</td>\n",
       "      <td>kilogram</td>\n",
       "      <td>injection moulding</td>\n",
       "      <td>RER</td>\n",
       "      <td>BIOED_3</td>\n",
       "      <td>igloo production</td>\n",
       "    </tr>\n",
       "    <tr>\n",
       "      <th>8</th>\n",
       "      <td>0.250000</td>\n",
       "      <td>kilogram</td>\n",
       "      <td>market for lime, hydrated, packed</td>\n",
       "      <td>RER</td>\n",
       "      <td>BIOED_4</td>\n",
       "      <td>Decorcalce production</td>\n",
       "    </tr>\n",
       "    <tr>\n",
       "      <th>9</th>\n",
       "      <td>0.166667</td>\n",
       "      <td>kilogram</td>\n",
       "      <td>market for tap water</td>\n",
       "      <td>Europe without Switzerland</td>\n",
       "      <td>BIOED_4</td>\n",
       "      <td>Decorcalce production</td>\n",
       "    </tr>\n",
       "    <tr>\n",
       "      <th>10</th>\n",
       "      <td>0.583333</td>\n",
       "      <td>kilogram</td>\n",
       "      <td>market for silica sand</td>\n",
       "      <td>GLO</td>\n",
       "      <td>BIOED_4</td>\n",
       "      <td>Decorcalce production</td>\n",
       "    </tr>\n",
       "    <tr>\n",
       "      <th>11</th>\n",
       "      <td>0.216667</td>\n",
       "      <td>kilogram</td>\n",
       "      <td>Clay, unspecified</td>\n",
       "      <td>biosphere</td>\n",
       "      <td>BIOED_5</td>\n",
       "      <td>earten plaster B1 production</td>\n",
       "    </tr>\n",
       "    <tr>\n",
       "      <th>12</th>\n",
       "      <td>0.608333</td>\n",
       "      <td>kilogram</td>\n",
       "      <td>market for sand</td>\n",
       "      <td>RoW</td>\n",
       "      <td>BIOED_5</td>\n",
       "      <td>earten plaster B1 production</td>\n",
       "    </tr>\n",
       "    <tr>\n",
       "      <th>13</th>\n",
       "      <td>0.166667</td>\n",
       "      <td>kilogram</td>\n",
       "      <td>market for tap water</td>\n",
       "      <td>Europe without Switzerland</td>\n",
       "      <td>BIOED_5</td>\n",
       "      <td>earten plaster B1 production</td>\n",
       "    </tr>\n",
       "    <tr>\n",
       "      <th>14</th>\n",
       "      <td>0.008333</td>\n",
       "      <td>kilogram</td>\n",
       "      <td>straw production, stand-alone production</td>\n",
       "      <td>RoW</td>\n",
       "      <td>BIOED_5</td>\n",
       "      <td>earten plaster B1 production</td>\n",
       "    </tr>\n",
       "    <tr>\n",
       "      <th>15</th>\n",
       "      <td>1.000000</td>\n",
       "      <td>kilogram</td>\n",
       "      <td>plaster mixing, IT</td>\n",
       "      <td>BIOED</td>\n",
       "      <td>BIOED_5</td>\n",
       "      <td>earten plaster B1 production</td>\n",
       "    </tr>\n",
       "    <tr>\n",
       "      <th>16</th>\n",
       "      <td>0.500000</td>\n",
       "      <td>kilogram</td>\n",
       "      <td>Clay, unspecified</td>\n",
       "      <td>biosphere</td>\n",
       "      <td>BIOED_6</td>\n",
       "      <td>earten plaster B2 production</td>\n",
       "    </tr>\n",
       "    <tr>\n",
       "      <th>17</th>\n",
       "      <td>0.100000</td>\n",
       "      <td>kilogram</td>\n",
       "      <td>market for sand</td>\n",
       "      <td>RoW</td>\n",
       "      <td>BIOED_6</td>\n",
       "      <td>earten plaster B2 production</td>\n",
       "    </tr>\n",
       "    <tr>\n",
       "      <th>18</th>\n",
       "      <td>0.316667</td>\n",
       "      <td>kilogram</td>\n",
       "      <td>market for tap water</td>\n",
       "      <td>Europe without Switzerland</td>\n",
       "      <td>BIOED_6</td>\n",
       "      <td>earten plaster B2 production</td>\n",
       "    </tr>\n",
       "    <tr>\n",
       "      <th>19</th>\n",
       "      <td>0.083333</td>\n",
       "      <td>kilogram</td>\n",
       "      <td>straw production, stand-alone production</td>\n",
       "      <td>RoW</td>\n",
       "      <td>BIOED_6</td>\n",
       "      <td>earten plaster B2 production</td>\n",
       "    </tr>\n",
       "    <tr>\n",
       "      <th>20</th>\n",
       "      <td>1.000000</td>\n",
       "      <td>kilogram</td>\n",
       "      <td>plaster mixing, IT</td>\n",
       "      <td>BIOED</td>\n",
       "      <td>BIOED_6</td>\n",
       "      <td>earten plaster B2 production</td>\n",
       "    </tr>\n",
       "    <tr>\n",
       "      <th>21</th>\n",
       "      <td>0.316667</td>\n",
       "      <td>kilogram</td>\n",
       "      <td>Clay, unspecified</td>\n",
       "      <td>biosphere</td>\n",
       "      <td>BIOED_7</td>\n",
       "      <td>earten plaster R1 production</td>\n",
       "    </tr>\n",
       "    <tr>\n",
       "      <th>22</th>\n",
       "      <td>0.516667</td>\n",
       "      <td>kilogram</td>\n",
       "      <td>market for sand</td>\n",
       "      <td>RoW</td>\n",
       "      <td>BIOED_7</td>\n",
       "      <td>earten plaster R1 production</td>\n",
       "    </tr>\n",
       "    <tr>\n",
       "      <th>23</th>\n",
       "      <td>0.166667</td>\n",
       "      <td>kilogram</td>\n",
       "      <td>market for tap water</td>\n",
       "      <td>Europe without Switzerland</td>\n",
       "      <td>BIOED_7</td>\n",
       "      <td>earten plaster R1 production</td>\n",
       "    </tr>\n",
       "    <tr>\n",
       "      <th>24</th>\n",
       "      <td>1.000000</td>\n",
       "      <td>kilogram</td>\n",
       "      <td>plaster mixing, IT</td>\n",
       "      <td>BIOED</td>\n",
       "      <td>BIOED_7</td>\n",
       "      <td>earten plaster R1 production</td>\n",
       "    </tr>\n",
       "    <tr>\n",
       "      <th>25</th>\n",
       "      <td>1.538000</td>\n",
       "      <td>kilogram</td>\n",
       "      <td>market for cork, raw</td>\n",
       "      <td>RoW</td>\n",
       "      <td>BIOED_8</td>\n",
       "      <td>cork granulate production</td>\n",
       "    </tr>\n",
       "    <tr>\n",
       "      <th>26</th>\n",
       "      <td>0.368270</td>\n",
       "      <td>kilowatt hour</td>\n",
       "      <td>market for electricity, medium voltage</td>\n",
       "      <td>IT</td>\n",
       "      <td>BIOED_8</td>\n",
       "      <td>cork granulate production</td>\n",
       "    </tr>\n",
       "  </tbody>\n",
       "</table>\n",
       "</div>"
      ],
      "text/plain": [
       "      amount           unit                                   process  \\\n",
       "0   0.833333       kilogram                lime mortar production, IT   \n",
       "1   0.166667       kilogram                      market for tap water   \n",
       "2   1.000000       kilogram                        plaster mixing, IT   \n",
       "3   0.208333       kilogram            lime production, hydraulic, IT   \n",
       "4   0.625000       kilogram                    market for silica sand   \n",
       "5   0.166667       kilogram                      market for tap water   \n",
       "6   1.006000       kilogram       polypropylene production, granulate   \n",
       "7   1.006000       kilogram                        injection moulding   \n",
       "8   0.250000       kilogram         market for lime, hydrated, packed   \n",
       "9   0.166667       kilogram                      market for tap water   \n",
       "10  0.583333       kilogram                    market for silica sand   \n",
       "11  0.216667       kilogram                         Clay, unspecified   \n",
       "12  0.608333       kilogram                           market for sand   \n",
       "13  0.166667       kilogram                      market for tap water   \n",
       "14  0.008333       kilogram  straw production, stand-alone production   \n",
       "15  1.000000       kilogram                        plaster mixing, IT   \n",
       "16  0.500000       kilogram                         Clay, unspecified   \n",
       "17  0.100000       kilogram                           market for sand   \n",
       "18  0.316667       kilogram                      market for tap water   \n",
       "19  0.083333       kilogram  straw production, stand-alone production   \n",
       "20  1.000000       kilogram                        plaster mixing, IT   \n",
       "21  0.316667       kilogram                         Clay, unspecified   \n",
       "22  0.516667       kilogram                           market for sand   \n",
       "23  0.166667       kilogram                      market for tap water   \n",
       "24  1.000000       kilogram                        plaster mixing, IT   \n",
       "25  1.538000       kilogram                      market for cork, raw   \n",
       "26  0.368270  kilowatt hour    market for electricity, medium voltage   \n",
       "\n",
       "                      location     code  \\\n",
       "0                        BIOED  BIOED_1   \n",
       "1   Europe without Switzerland  BIOED_1   \n",
       "2                        BIOED  BIOED_1   \n",
       "3                        BIOED  BIOED_2   \n",
       "4                          GLO  BIOED_2   \n",
       "5   Europe without Switzerland  BIOED_2   \n",
       "6                          RER  BIOED_3   \n",
       "7                          RER  BIOED_3   \n",
       "8                          RER  BIOED_4   \n",
       "9   Europe without Switzerland  BIOED_4   \n",
       "10                         GLO  BIOED_4   \n",
       "11                   biosphere  BIOED_5   \n",
       "12                         RoW  BIOED_5   \n",
       "13  Europe without Switzerland  BIOED_5   \n",
       "14                         RoW  BIOED_5   \n",
       "15                       BIOED  BIOED_5   \n",
       "16                   biosphere  BIOED_6   \n",
       "17                         RoW  BIOED_6   \n",
       "18  Europe without Switzerland  BIOED_6   \n",
       "19                         RoW  BIOED_6   \n",
       "20                       BIOED  BIOED_6   \n",
       "21                   biosphere  BIOED_7   \n",
       "22                         RoW  BIOED_7   \n",
       "23  Europe without Switzerland  BIOED_7   \n",
       "24                       BIOED  BIOED_7   \n",
       "25                         RoW  BIOED_8   \n",
       "26                          IT  BIOED_8   \n",
       "\n",
       "                                             activity  \n",
       "0   natural hydraulic lime fibre-reinforced screed...  \n",
       "1   natural hydraulic lime fibre-reinforced screed...  \n",
       "2   natural hydraulic lime fibre-reinforced screed...  \n",
       "3                                Rasocalce production  \n",
       "4                                Rasocalce production  \n",
       "5                                Rasocalce production  \n",
       "6                                    igloo production  \n",
       "7                                    igloo production  \n",
       "8                               Decorcalce production  \n",
       "9                               Decorcalce production  \n",
       "10                              Decorcalce production  \n",
       "11                       earten plaster B1 production  \n",
       "12                       earten plaster B1 production  \n",
       "13                       earten plaster B1 production  \n",
       "14                       earten plaster B1 production  \n",
       "15                       earten plaster B1 production  \n",
       "16                       earten plaster B2 production  \n",
       "17                       earten plaster B2 production  \n",
       "18                       earten plaster B2 production  \n",
       "19                       earten plaster B2 production  \n",
       "20                       earten plaster B2 production  \n",
       "21                       earten plaster R1 production  \n",
       "22                       earten plaster R1 production  \n",
       "23                       earten plaster R1 production  \n",
       "24                       earten plaster R1 production  \n",
       "25                          cork granulate production  \n",
       "26                          cork granulate production  "
      ]
     },
     "execution_count": 14,
     "metadata": {},
     "output_type": "execute_result"
    }
   ],
   "source": [
    "exchanges_df = pd.read_excel(r\"BIOED_import.xlsx\", \"exc\")\n",
    "exchanges_df"
   ]
  },
  {
   "cell_type": "code",
   "execution_count": 32,
   "id": "f7722121-081c-494e-83bf-54c0cf9b6083",
   "metadata": {
    "tags": []
   },
   "outputs": [
    {
     "name": "stdout",
     "output_type": "stream",
     "text": [
      "______________________________________________________________________________________________________\n",
      "The activity: natural hydraulic lime fibre-reinforced screed production is already present in the database, no need to create a new one!!\n",
      "______________________________________________________________________________________________________\n",
      "The activity: Rasocalce production is already present in the database, no need to create a new one!!\n",
      "______________________________________________________________________________________________________\n",
      "The activity: igloo production is already present in the database, no need to create a new one!!\n",
      "####################################################################################################\n",
      "Creating the activity: Decorcalce production....\n",
      "Inseriting the inputs of Decorcalce production:\n",
      "Edge: lime, hydrated, packed;    Amount: 0.25\n",
      "Edge: tap water;    Amount: 0.16666666666666669\n",
      "Edge: silica sand;    Amount: 0.5833333333333334\n",
      "______________________________________________________________________________________________________\n",
      "The activity: earten plaster B1 production is already present in the database, no need to create a new one!!\n",
      "______________________________________________________________________________________________________\n",
      "The activity: earten plaster B2 production is already present in the database, no need to create a new one!!\n",
      "______________________________________________________________________________________________________\n",
      "The activity: earten plaster R1 production is already present in the database, no need to create a new one!!\n",
      "______________________________________________________________________________________________________\n",
      "The activity: cork granulate production is already present in the database, no need to create a new one!!\n"
     ]
    }
   ],
   "source": [
    "for i in range(len(activities_df)):\n",
    "    new_activity(ei, activities_df['name'][i], activities_df['code'][i], \n",
    "                 activities_df['unit'][i], activities_df['reference product'][i], exchanges_df)"
   ]
  }
 ],
 "metadata": {
  "kernelspec": {
   "display_name": "Python 3 (ipykernel)",
   "language": "python",
   "name": "python3"
  },
  "language_info": {
   "codemirror_mode": {
    "name": "ipython",
    "version": 3
   },
   "file_extension": ".py",
   "mimetype": "text/x-python",
   "name": "python",
   "nbconvert_exporter": "python",
   "pygments_lexer": "ipython3",
   "version": "3.11.4"
  }
 },
 "nbformat": 4,
 "nbformat_minor": 5
}
